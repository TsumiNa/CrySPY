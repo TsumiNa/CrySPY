{
 "cells": [
  {
   "cell_type": "code",
   "execution_count": 1,
   "metadata": {},
   "outputs": [],
   "source": [
    "from CrySPY.gen_struc.random import rndgen\n",
    "from xenonpy.datatools import preset"
   ]
  },
  {
   "cell_type": "code",
   "execution_count": 21,
   "metadata": {},
   "outputs": [
    {
     "name": "stdout",
     "output_type": "stream",
     "text": [
      "Structure ID        0 was generated. Space group:   7 -->   7 Pc\n",
      "Structure ID        1 was generated. Space group: 140 --> 123 P4/mmm\n",
      "Structure ID        2 was generated. Space group: 113 --> 129 P4/nmm\n",
      "Structure ID        3 was generated. Space group: 143 --> 156 P3m1\n",
      "Structure ID        4 was generated. Space group: 147 --> 164 P-3m1\n",
      "Structure ID        5 was generated. Space group:  45 -->  35 Cmm2\n",
      "Structure ID        6 was generated. Space group:  31 -->  31 Pmn2_1\n",
      "Structure ID        7 was generated. Space group: 175 --> 191 P6/mmm\n",
      "Structure ID        8 was generated. Space group:  65 -->  69 Fmmm\n",
      "Structure ID        9 was generated. Space group: 121 --> 139 I4/mmm\n"
     ]
    }
   ],
   "source": [
    "tmp = rndgen.rndgen_spg(10, ['Li', 'Co', 'O'], [2,2,2], mindist=[[2.0, 2.0, 1.2], [2.0, 2.0, 1.2], [1.2, 1.2, 1.5]], fwpath='/Users/liuchang/source/CrySPY/CrySPY/find_wy/find_wy')"
   ]
  },
  {
   "cell_type": "code",
   "execution_count": 15,
   "metadata": {},
   "outputs": [],
   "source": [
    "from CrySPY.gen_struc.EA import Crossover, Strain, Permutation\n",
    "from CrySPY.gen_struc import out_cif"
   ]
  },
  {
   "cell_type": "code",
   "execution_count": 22,
   "metadata": {},
   "outputs": [],
   "source": [
    "cv = Crossover(['Li', 'Co', 'O'], [2,2,2], [[2.0, 2.0, 1.2], [2.0, 2.0, 1.2], [1.2, 1.2, 1.5]])"
   ]
  },
  {
   "cell_type": "code",
   "execution_count": 34,
   "metadata": {},
   "outputs": [],
   "source": [
    "cv_ = cv.gen_child(tmp[4], tmp[3])\n",
    "out_cif(cv_, 1, './', './crossover_4_3.cif')"
   ]
  },
  {
   "cell_type": "code",
   "execution_count": 10,
   "metadata": {},
   "outputs": [],
   "source": [
    "per = Permutation(['Li', 'Co', 'O'], [[2.0, 2.0, 1.2], [2.0, 2.0, 1.2], [1.2, 1.2, 1.5]])"
   ]
  },
  {
   "cell_type": "code",
   "execution_count": 36,
   "metadata": {},
   "outputs": [],
   "source": [
    "per_ = per.gen_child(tmp[1])\n",
    "out_cif(per_, 1, './', './permutation_1.cif')"
   ]
  },
  {
   "cell_type": "code",
   "execution_count": 12,
   "metadata": {},
   "outputs": [],
   "source": [
    "strain = Strain(['Li', 'Co', 'O'], [[2.0, 2.0, 1.2], [2.0, 2.0, 1.2], [1.2, 1.2, 1.5]])"
   ]
  },
  {
   "cell_type": "code",
   "execution_count": 39,
   "metadata": {},
   "outputs": [],
   "source": [
    "str_ = strain.gen_child(tmp[4])\n",
    "out_cif(str_, 1, './', './strain_4.cif')"
   ]
  },
  {
   "cell_type": "code",
   "execution_count": 28,
   "metadata": {},
   "outputs": [],
   "source": [
    "for i, s in enumerate(tmp.values()):\n",
    "    out_cif(s, i, './', f'{i}.cif')"
   ]
  },
  {
   "cell_type": "markdown",
   "metadata": {},
   "source": [
    "# some test"
   ]
  },
  {
   "cell_type": "code",
   "execution_count": 81,
   "metadata": {},
   "outputs": [],
   "source": [
    "from pymatgen import Structure\n",
    "from pymatgen.symmetry.analyzer import SpacegroupAnalyzer"
   ]
  },
  {
   "cell_type": "code",
   "execution_count": 72,
   "metadata": {},
   "outputs": [
    {
     "name": "stderr",
     "output_type": "stream",
     "text": [
      "/usr/local/miniconda3/envs/xepy37_osx/lib/python3.7/site-packages/pymatgen/io/cif.py:1107: UserWarning: Issues encountered while parsing CIF:\n",
      "  warnings.warn(\"Issues encountered while parsing CIF:\")\n",
      "/usr/local/miniconda3/envs/xepy37_osx/lib/python3.7/site-packages/pymatgen/io/cif.py:1109: UserWarning: Some fractional co-ordinates rounded to ideal values to avoid finite precision errors.\n",
      "  warnings.warn(error)\n"
     ]
    },
    {
     "data": {
      "text/plain": [
       "Structure Summary\n",
       "Lattice\n",
       "    abc : 4.23585864 4.23585864 7.57071772\n",
       " angles : 90.0 90.0 119.99999999999999\n",
       " volume : 117.63880434780243\n",
       "      A : 4.23585864 0.0 2.59371536255833e-16\n",
       "      B : -2.117929319999999 3.668361189079804 2.59371536255833e-16\n",
       "      C : 0.0 0.0 7.57071772\n",
       "PeriodicSite: Li (0.0000, 2.4456, 4.4222) [0.3333, 0.6667, 0.5841]\n",
       "PeriodicSite: Li (2.1179, 1.2228, 3.1485) [0.6667, 0.3333, 0.4159]\n",
       "PeriodicSite: Li (2.1179, 1.2228, 0.6368) [0.6667, 0.3333, 0.0841]\n",
       "PeriodicSite: Li (0.0000, 2.4456, 6.9339) [0.3333, 0.6667, 0.9159]\n",
       "PeriodicSite: Li (0.0000, 0.0000, 1.8927) [0.0000, 0.0000, 0.2500]\n",
       "PeriodicSite: Li (0.0000, 0.0000, 5.6780) [0.0000, 0.0000, 0.7500]\n",
       "PeriodicSite: P (0.0000, 2.4456, 1.8927) [0.3333, 0.6667, 0.2500]\n",
       "PeriodicSite: P (2.1179, 1.2228, 5.6780) [0.6667, 0.3333, 0.7500]"
      ]
     },
     "execution_count": 72,
     "metadata": {},
     "output_type": "execute_result"
    }
   ],
   "source": [
    "s = Structure.from_file('Li3P_mp-736_computed.cif')\n",
    "s"
   ]
  },
  {
   "cell_type": "code",
   "execution_count": 83,
   "metadata": {},
   "outputs": [
    {
     "data": {
      "text/plain": [
       "<pymatgen.symmetry.analyzer.SpacegroupAnalyzer at 0x7ff7abf2bb38>"
      ]
     },
     "execution_count": 83,
     "metadata": {},
     "output_type": "execute_result"
    }
   ],
   "source": [
    "a = SpacegroupAnalyzer(s)\n",
    "a\n"
   ]
  },
  {
   "cell_type": "code",
   "execution_count": 92,
   "metadata": {},
   "outputs": [
    {
     "data": {
      "text/plain": [
       "{'number': 194,\n",
       " 'hall_number': 488,\n",
       " 'international': 'P6_3/mmc',\n",
       " 'hall': '-P 6c 2c',\n",
       " 'choice': '',\n",
       " 'transformation_matrix': array([[1.00000000e+00, 1.11022302e-16, 0.00000000e+00],\n",
       "        [0.00000000e+00, 1.00000000e+00, 0.00000000e+00],\n",
       "        [0.00000000e+00, 1.23259516e-32, 1.00000000e+00]]),\n",
       " 'origin_shift': array([1.11022302e-16, 0.00000000e+00, 0.00000000e+00]),\n",
       " 'rotations': array([[[ 1,  0,  0],\n",
       "         [ 0,  1,  0],\n",
       "         [ 0,  0,  1]],\n",
       " \n",
       "        [[-1,  0,  0],\n",
       "         [ 0, -1,  0],\n",
       "         [ 0,  0, -1]],\n",
       " \n",
       "        [[ 1, -1,  0],\n",
       "         [ 1,  0,  0],\n",
       "         [ 0,  0,  1]],\n",
       " \n",
       "        [[-1,  1,  0],\n",
       "         [-1,  0,  0],\n",
       "         [ 0,  0, -1]],\n",
       " \n",
       "        [[ 0, -1,  0],\n",
       "         [ 1, -1,  0],\n",
       "         [ 0,  0,  1]],\n",
       " \n",
       "        [[ 0,  1,  0],\n",
       "         [-1,  1,  0],\n",
       "         [ 0,  0, -1]],\n",
       " \n",
       "        [[-1,  0,  0],\n",
       "         [ 0, -1,  0],\n",
       "         [ 0,  0,  1]],\n",
       " \n",
       "        [[ 1,  0,  0],\n",
       "         [ 0,  1,  0],\n",
       "         [ 0,  0, -1]],\n",
       " \n",
       "        [[-1,  1,  0],\n",
       "         [-1,  0,  0],\n",
       "         [ 0,  0,  1]],\n",
       " \n",
       "        [[ 1, -1,  0],\n",
       "         [ 1,  0,  0],\n",
       "         [ 0,  0, -1]],\n",
       " \n",
       "        [[ 0,  1,  0],\n",
       "         [-1,  1,  0],\n",
       "         [ 0,  0,  1]],\n",
       " \n",
       "        [[ 0, -1,  0],\n",
       "         [ 1, -1,  0],\n",
       "         [ 0,  0, -1]],\n",
       " \n",
       "        [[ 0, -1,  0],\n",
       "         [-1,  0,  0],\n",
       "         [ 0,  0, -1]],\n",
       " \n",
       "        [[ 0,  1,  0],\n",
       "         [ 1,  0,  0],\n",
       "         [ 0,  0,  1]],\n",
       " \n",
       "        [[-1,  0,  0],\n",
       "         [-1,  1,  0],\n",
       "         [ 0,  0, -1]],\n",
       " \n",
       "        [[ 1,  0,  0],\n",
       "         [ 1, -1,  0],\n",
       "         [ 0,  0,  1]],\n",
       " \n",
       "        [[-1,  1,  0],\n",
       "         [ 0,  1,  0],\n",
       "         [ 0,  0, -1]],\n",
       " \n",
       "        [[ 1, -1,  0],\n",
       "         [ 0, -1,  0],\n",
       "         [ 0,  0,  1]],\n",
       " \n",
       "        [[ 0,  1,  0],\n",
       "         [ 1,  0,  0],\n",
       "         [ 0,  0, -1]],\n",
       " \n",
       "        [[ 0, -1,  0],\n",
       "         [-1,  0,  0],\n",
       "         [ 0,  0,  1]],\n",
       " \n",
       "        [[ 1,  0,  0],\n",
       "         [ 1, -1,  0],\n",
       "         [ 0,  0, -1]],\n",
       " \n",
       "        [[-1,  0,  0],\n",
       "         [-1,  1,  0],\n",
       "         [ 0,  0,  1]],\n",
       " \n",
       "        [[ 1, -1,  0],\n",
       "         [ 0, -1,  0],\n",
       "         [ 0,  0, -1]],\n",
       " \n",
       "        [[-1,  1,  0],\n",
       "         [ 0,  1,  0],\n",
       "         [ 0,  0,  1]]], dtype=int32),\n",
       " 'translations': array([[ 0.00000000e+00,  0.00000000e+00,  0.00000000e+00],\n",
       "        [-2.22044605e-16,  0.00000000e+00,  0.00000000e+00],\n",
       "        [ 1.23259516e-32,  1.11022302e-16,  5.00000000e-01],\n",
       "        [-2.22044605e-16, -1.11022302e-16,  5.00000000e-01],\n",
       "        [-1.11022302e-16,  1.11022302e-16,  1.36845553e-48],\n",
       "        [-1.11022302e-16, -1.11022302e-16, -1.36845553e-48],\n",
       "        [-2.22044605e-16,  0.00000000e+00,  5.00000000e-01],\n",
       "        [ 0.00000000e+00,  0.00000000e+00,  5.00000000e-01],\n",
       "        [-2.22044605e-16, -1.11022302e-16, -1.36845553e-48],\n",
       "        [ 1.23259516e-32,  1.11022302e-16,  1.36845553e-48],\n",
       "        [-1.11022302e-16, -1.11022302e-16,  5.00000000e-01],\n",
       "        [-1.11022302e-16,  1.11022302e-16,  5.00000000e-01],\n",
       "        [-1.11022302e-16, -1.11022302e-16,  5.00000000e-01],\n",
       "        [-1.11022302e-16,  1.11022302e-16,  5.00000000e-01],\n",
       "        [-2.22044605e-16, -1.11022302e-16, -1.36845553e-48],\n",
       "        [ 1.23259516e-32,  1.11022302e-16,  1.36845553e-48],\n",
       "        [-2.22044605e-16,  0.00000000e+00,  5.00000000e-01],\n",
       "        [ 0.00000000e+00,  0.00000000e+00,  5.00000000e-01],\n",
       "        [-1.11022302e-16,  1.11022302e-16,  1.36845553e-48],\n",
       "        [-1.11022302e-16, -1.11022302e-16, -1.36845553e-48],\n",
       "        [ 1.23259516e-32,  1.11022302e-16,  5.00000000e-01],\n",
       "        [-2.22044605e-16, -1.11022302e-16,  5.00000000e-01],\n",
       "        [ 0.00000000e+00,  0.00000000e+00,  0.00000000e+00],\n",
       "        [-2.22044605e-16,  0.00000000e+00,  0.00000000e+00]]),\n",
       " 'wyckoffs': ['f', 'f', 'f', 'f', 'b', 'b', 'c', 'c'],\n",
       " 'site_symmetry_symbols': ['3m.',\n",
       "  '3m.',\n",
       "  '3m.',\n",
       "  '3m.',\n",
       "  '-6m2',\n",
       "  '-6m2',\n",
       "  '-6m2',\n",
       "  '-6m2'],\n",
       " 'equivalent_atoms': array([0, 0, 0, 0, 4, 4, 6, 6], dtype=int32),\n",
       " 'mapping_to_primitive': array([0, 1, 2, 3, 4, 5, 6, 7], dtype=int32),\n",
       " 'std_lattice': array([[ 4.23585864,  0.        ,  0.        ],\n",
       "        [-2.11792932,  3.66836119,  0.        ],\n",
       "        [ 0.        ,  0.        ,  7.57071772]]),\n",
       " 'std_types': array([1, 1, 1, 1, 1, 1, 2, 2], dtype=int32),\n",
       " 'std_positions': array([[0.33333333, 0.66666667, 0.584119  ],\n",
       "        [0.66666667, 0.33333333, 0.415881  ],\n",
       "        [0.66666667, 0.33333333, 0.084119  ],\n",
       "        [0.33333333, 0.66666667, 0.915881  ],\n",
       "        [0.        , 0.        , 0.25      ],\n",
       "        [0.        , 0.        , 0.75      ],\n",
       "        [0.33333333, 0.66666667, 0.25      ],\n",
       "        [0.66666667, 0.33333333, 0.75      ]]),\n",
       " 'std_rotation_matrix': array([[ 1.00000000e+00, -1.36845553e-48,  6.12323400e-17],\n",
       "        [-6.49415036e-33,  1.00000000e+00,  1.06057524e-16],\n",
       "        [-6.12323400e-17, -1.06057524e-16,  1.00000000e+00]]),\n",
       " 'std_mapping_to_primitive': array([0, 1, 2, 3, 4, 5, 6, 7], dtype=int32),\n",
       " 'pointgroup': '6/mmm'}"
      ]
     },
     "execution_count": 92,
     "metadata": {},
     "output_type": "execute_result"
    }
   ],
   "source": [
    "a.get_symmetry_dataset()"
   ]
  },
  {
   "cell_type": "code",
   "execution_count": 98,
   "metadata": {},
   "outputs": [],
   "source": [
    "s_ = s.sites[0]"
   ]
  },
  {
   "cell_type": "code",
   "execution_count": 100,
   "metadata": {},
   "outputs": [
    {
     "data": {
      "text/plain": [
       "PeriodicSite: Li (0.0000, 2.4456, 4.4222) [0.3333, 0.6667, 0.5841]"
      ]
     },
     "execution_count": 100,
     "metadata": {},
     "output_type": "execute_result"
    }
   ],
   "source": [
    "s_.to_unit_cell()"
   ]
  },
  {
   "cell_type": "code",
   "execution_count": 116,
   "metadata": {},
   "outputs": [
    {
     "data": {
      "text/html": [
       "<div>\n",
       "<style scoped>\n",
       "    .dataframe tbody tr th:only-of-type {\n",
       "        vertical-align: middle;\n",
       "    }\n",
       "\n",
       "    .dataframe tbody tr th {\n",
       "        vertical-align: top;\n",
       "    }\n",
       "\n",
       "    .dataframe thead th {\n",
       "        text-align: right;\n",
       "    }\n",
       "</style>\n",
       "<table border=\"1\" class=\"dataframe\">\n",
       "  <thead>\n",
       "    <tr style=\"text-align: right;\">\n",
       "      <th></th>\n",
       "      <th>a</th>\n",
       "      <th>b</th>\n",
       "    </tr>\n",
       "  </thead>\n",
       "  <tbody>\n",
       "    <tr>\n",
       "      <th>0</th>\n",
       "      <td>1.0</td>\n",
       "      <td>6.0</td>\n",
       "    </tr>\n",
       "    <tr>\n",
       "      <th>1</th>\n",
       "      <td>NaN</td>\n",
       "      <td>NaN</td>\n",
       "    </tr>\n",
       "    <tr>\n",
       "      <th>2</th>\n",
       "      <td>3.0</td>\n",
       "      <td>8.0</td>\n",
       "    </tr>\n",
       "    <tr>\n",
       "      <th>3</th>\n",
       "      <td>4.0</td>\n",
       "      <td>9.0</td>\n",
       "    </tr>\n",
       "    <tr>\n",
       "      <th>4</th>\n",
       "      <td>5.0</td>\n",
       "      <td>0.0</td>\n",
       "    </tr>\n",
       "  </tbody>\n",
       "</table>\n",
       "</div>"
      ],
      "text/plain": [
       "     a    b\n",
       "0  1.0  6.0\n",
       "1  NaN  NaN\n",
       "2  3.0  8.0\n",
       "3  4.0  9.0\n",
       "4  5.0  0.0"
      ]
     },
     "execution_count": 116,
     "metadata": {},
     "output_type": "execute_result"
    }
   ],
   "source": [
    "d = pd.DataFrame(dict(a=[1,np.nan,3,4,5], b=[6,np.nan,8,9,0]))\n",
    "d"
   ]
  },
  {
   "cell_type": "code",
   "execution_count": 133,
   "metadata": {},
   "outputs": [
    {
     "data": {
      "text/html": [
       "<div>\n",
       "<style scoped>\n",
       "    .dataframe tbody tr th:only-of-type {\n",
       "        vertical-align: middle;\n",
       "    }\n",
       "\n",
       "    .dataframe tbody tr th {\n",
       "        vertical-align: top;\n",
       "    }\n",
       "\n",
       "    .dataframe thead th {\n",
       "        text-align: right;\n",
       "    }\n",
       "</style>\n",
       "<table border=\"1\" class=\"dataframe\">\n",
       "  <thead>\n",
       "    <tr style=\"text-align: right;\">\n",
       "      <th></th>\n",
       "      <th>a</th>\n",
       "      <th>b</th>\n",
       "    </tr>\n",
       "  </thead>\n",
       "  <tbody>\n",
       "    <tr>\n",
       "      <th>0</th>\n",
       "      <td>1.0</td>\n",
       "      <td>6.0</td>\n",
       "    </tr>\n",
       "    <tr>\n",
       "      <th>2</th>\n",
       "      <td>3.0</td>\n",
       "      <td>8.0</td>\n",
       "    </tr>\n",
       "    <tr>\n",
       "      <th>3</th>\n",
       "      <td>4.0</td>\n",
       "      <td>9.0</td>\n",
       "    </tr>\n",
       "    <tr>\n",
       "      <th>4</th>\n",
       "      <td>5.0</td>\n",
       "      <td>0.0</td>\n",
       "    </tr>\n",
       "  </tbody>\n",
       "</table>\n",
       "</div>"
      ],
      "text/plain": [
       "     a    b\n",
       "0  1.0  6.0\n",
       "2  3.0  8.0\n",
       "3  4.0  9.0\n",
       "4  5.0  0.0"
      ]
     },
     "execution_count": 133,
     "metadata": {},
     "output_type": "execute_result"
    }
   ],
   "source": [
    "d_ = d.dropna()\n",
    "d_"
   ]
  },
  {
   "cell_type": "code",
   "execution_count": 134,
   "metadata": {},
   "outputs": [],
   "source": [
    "a = d_['a']\n",
    "b = d_['b']"
   ]
  },
  {
   "cell_type": "code",
   "execution_count": 135,
   "metadata": {},
   "outputs": [
    {
     "data": {
      "text/plain": [
       "0    1.0\n",
       "2    3.0\n",
       "3    4.0\n",
       "4    5.0\n",
       "Name: a, dtype: float64"
      ]
     },
     "execution_count": 135,
     "metadata": {},
     "output_type": "execute_result"
    }
   ],
   "source": [
    "a"
   ]
  },
  {
   "cell_type": "code",
   "execution_count": 136,
   "metadata": {},
   "outputs": [
    {
     "data": {
      "text/plain": [
       "0    6.0\n",
       "2    8.0\n",
       "3    9.0\n",
       "4    0.0\n",
       "Name: b, dtype: float64"
      ]
     },
     "execution_count": 136,
     "metadata": {},
     "output_type": "execute_result"
    }
   ],
   "source": [
    "b"
   ]
  },
  {
   "cell_type": "code",
   "execution_count": 137,
   "metadata": {},
   "outputs": [
    {
     "data": {
      "text/html": [
       "<div>\n",
       "<style scoped>\n",
       "    .dataframe tbody tr th:only-of-type {\n",
       "        vertical-align: middle;\n",
       "    }\n",
       "\n",
       "    .dataframe tbody tr th {\n",
       "        vertical-align: top;\n",
       "    }\n",
       "\n",
       "    .dataframe thead th {\n",
       "        text-align: right;\n",
       "    }\n",
       "</style>\n",
       "<table border=\"1\" class=\"dataframe\">\n",
       "  <thead>\n",
       "    <tr style=\"text-align: right;\">\n",
       "      <th></th>\n",
       "      <th>0</th>\n",
       "      <th>1</th>\n",
       "    </tr>\n",
       "  </thead>\n",
       "  <tbody>\n",
       "    <tr>\n",
       "      <th>0</th>\n",
       "      <td>1.0</td>\n",
       "      <td>6.0</td>\n",
       "    </tr>\n",
       "    <tr>\n",
       "      <th>2</th>\n",
       "      <td>3.0</td>\n",
       "      <td>8.0</td>\n",
       "    </tr>\n",
       "    <tr>\n",
       "      <th>3</th>\n",
       "      <td>4.0</td>\n",
       "      <td>9.0</td>\n",
       "    </tr>\n",
       "    <tr>\n",
       "      <th>4</th>\n",
       "      <td>5.0</td>\n",
       "      <td>0.0</td>\n",
       "    </tr>\n",
       "  </tbody>\n",
       "</table>\n",
       "</div>"
      ],
      "text/plain": [
       "     0    1\n",
       "0  1.0  6.0\n",
       "2  3.0  8.0\n",
       "3  4.0  9.0\n",
       "4  5.0  0.0"
      ]
     },
     "execution_count": 137,
     "metadata": {},
     "output_type": "execute_result"
    }
   ],
   "source": [
    "c = pd.concat([a, b], ignore_index=True, sort=False, axis=1)\n",
    "c"
   ]
  },
  {
   "cell_type": "code",
   "execution_count": 131,
   "metadata": {},
   "outputs": [
    {
     "data": {
      "text/html": [
       "<div>\n",
       "<style scoped>\n",
       "    .dataframe tbody tr th:only-of-type {\n",
       "        vertical-align: middle;\n",
       "    }\n",
       "\n",
       "    .dataframe tbody tr th {\n",
       "        vertical-align: top;\n",
       "    }\n",
       "\n",
       "    .dataframe thead th {\n",
       "        text-align: right;\n",
       "    }\n",
       "</style>\n",
       "<table border=\"1\" class=\"dataframe\">\n",
       "  <thead>\n",
       "    <tr style=\"text-align: right;\">\n",
       "      <th></th>\n",
       "      <th>0</th>\n",
       "      <th>1</th>\n",
       "    </tr>\n",
       "  </thead>\n",
       "  <tbody>\n",
       "    <tr>\n",
       "      <th>0</th>\n",
       "      <td>1.0</td>\n",
       "      <td>6.0</td>\n",
       "    </tr>\n",
       "    <tr>\n",
       "      <th>1</th>\n",
       "      <td>NaN</td>\n",
       "      <td>NaN</td>\n",
       "    </tr>\n",
       "    <tr>\n",
       "      <th>2</th>\n",
       "      <td>3.0</td>\n",
       "      <td>8.0</td>\n",
       "    </tr>\n",
       "    <tr>\n",
       "      <th>3</th>\n",
       "      <td>4.0</td>\n",
       "      <td>9.0</td>\n",
       "    </tr>\n",
       "    <tr>\n",
       "      <th>4</th>\n",
       "      <td>5.0</td>\n",
       "      <td>0.0</td>\n",
       "    </tr>\n",
       "  </tbody>\n",
       "</table>\n",
       "</div>"
      ],
      "text/plain": [
       "     0    1\n",
       "0  1.0  6.0\n",
       "1  NaN  NaN\n",
       "2  3.0  8.0\n",
       "3  4.0  9.0\n",
       "4  5.0  0.0"
      ]
     },
     "execution_count": 131,
     "metadata": {},
     "output_type": "execute_result"
    }
   ],
   "source": [
    "pd.DataFrame(c, index=d.index)"
   ]
  },
  {
   "cell_type": "code",
   "execution_count": null,
   "metadata": {},
   "outputs": [],
   "source": []
  }
 ],
 "metadata": {
  "kernelspec": {
   "display_name": "Python 3",
   "language": "python",
   "name": "python3"
  },
  "language_info": {
   "codemirror_mode": {
    "name": "ipython",
    "version": 3
   },
   "file_extension": ".py",
   "mimetype": "text/x-python",
   "name": "python",
   "nbconvert_exporter": "python",
   "pygments_lexer": "ipython3",
   "version": "3.7.3"
  }
 },
 "nbformat": 4,
 "nbformat_minor": 2
}
